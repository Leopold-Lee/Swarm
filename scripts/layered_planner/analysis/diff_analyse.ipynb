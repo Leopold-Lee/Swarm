{
 "cells": [
  {
   "cell_type": "code",
   "execution_count": 1,
   "metadata": {},
   "outputs": [],
   "source": [
    "import pandas as pd\n",
    "import matplotlib.pyplot as plt\n",
    "import numpy as np\n",
    "import os"
   ]
  },
  {
   "cell_type": "code",
   "execution_count": 2,
   "metadata": {},
   "outputs": [],
   "source": [
    "input_dir = '../test/diff'\n",
    "input_dir1 = '../test2/diff'"
   ]
  },
  {
   "cell_type": "code",
   "execution_count": 3,
   "metadata": {},
   "outputs": [],
   "source": [
    "dfs = []\n",
    "dfs1 = []\n",
    "\n",
    "dir_file_list = os.listdir(input_dir)\n",
    "dir_file_list.sort()\n",
    "# read the files in the input directory to dataframes\n",
    "for csv_file in dir_file_list:\n",
    "    dfs.append(pd.read_csv(os.path.join(input_dir, csv_file)))\n",
    "\n",
    "dir_file_list1 = os.listdir(input_dir1)\n",
    "dir_file_list1.sort()\n",
    "for csv_file in dir_file_list1:\n",
    "    dfs1.append(pd.read_csv(os.path.join(input_dir1, csv_file)))"
   ]
  },
  {
   "cell_type": "code",
   "execution_count": null,
   "metadata": {},
   "outputs": [],
   "source": [
    "# visualize the difference\n",
    "assert len(dfs) == len(dfs1)\n",
    "\n",
    "for i in range(len(dfs)):\n",
    "    df = dfs[i]\n",
    "    df1 = dfs1[i]\n",
    "    \n",
    "    fig, axs = plt.subplots(4, 2, figsize=(10, 20))\n",
    "    for i in range(4):\n",
    "        axs[i, 0].plot(df[f'diff_robot{i}_x'], label=f'diff_robot{i}_x')\n",
    "        axs[i, 0].plot(df[f'diff_robot{i}_y'], label=f'diff_robot{i}_y')\n",
    "        axs[i, 0].set_title(f'diff_robot{i}_x and diff_robot{i}_y')\n",
    "        axs[i, 0].legend()  # Add a legend to distinguish the lines\n",
    "\n",
    "        axs[i, 1].plot(df1[f'diff_robot{i}_x'], label=f'diff_robot{i}_x')\n",
    "        axs[i, 1].plot(df1[f'diff_robot{i}_y'], label=f'diff_robot{i}_y')\n",
    "        axs[i, 1].set_title(f'diff_robot{i}_x and diff_robot{i}_y')\n",
    "        axs[i, 1].legend()  # Add a legend to distinguish the lines\n",
    "    plt.show()"
   ]
  }
 ],
 "metadata": {
  "kernelspec": {
   "display_name": "myenv",
   "language": "python",
   "name": "python3"
  },
  "language_info": {
   "codemirror_mode": {
    "name": "ipython",
    "version": 3
   },
   "file_extension": ".py",
   "mimetype": "text/x-python",
   "name": "python",
   "nbconvert_exporter": "python",
   "pygments_lexer": "ipython3",
   "version": "3.6.13"
  }
 },
 "nbformat": 4,
 "nbformat_minor": 2
}
